{
 "cells": [
  {
   "cell_type": "code",
   "execution_count": 29,
   "metadata": {},
   "outputs": [
    {
     "name": "stdout",
     "output_type": "stream",
     "text": [
      "{'result': {'version': '3.0', 'context': {'SYS_PRESUMED_SKILLS': ['1253428', '1253429', '1253430', '1253431', '1253433', '1253434', '1253435', '1253436', '1253437'], 'SYS_VARS': {}}, 'timestamp': '2022-10-27 14:36:50.372', 'service_id': 'S76849', 'session_id': 'chat-session-id-1666852608782-bb25514635fe4a5c9275839fabac088b', 'log_id': '7758521', 'ref_id': 'jpcwj_20221027143648_7048931625', 'responses': [{'status': 0, 'msg': 'ok', 'origin': '1253436', 'schema': {'intents': [{'slots': [], 'intent_name': 'BUILT_IAQ', 'intent_confidence': 100.0}]}, 'actions': [{'confidence': 100.0, 'say': '周末就是礼拜六，而礼拜天（即星期天）是一周的开始，而现在一般指周末就是星期六和星期日。', 'type': 'satisfy', 'options': [], 'action_id': 'build_iaq_satisfy', 'img': []}], 'raw_query': '今天是礼拜几', 'slot_history': []}, {'status': 0, 'msg': 'ok', 'origin': '1253428', 'schema': {'intents': [{'slots': [], 'intent_name': '', 'intent_confidence': 0.0}]}, 'actions': [{'confidence': 100.0, 'say': '请求失败，请稍候重试', 'type': 'failure', 'options': [], 'action_id': 'fail_action', 'img': []}], 'raw_query': '今天是礼拜几', 'slot_history': []}, {'status': 0, 'msg': 'ok', 'origin': '1253429', 'schema': {'intents': [{'slots': [], 'intent_name': '', 'intent_confidence': 0.0}]}, 'actions': [{'confidence': 100.0, 'say': '垃圾分类真是太难了，这个我也不知道。', 'type': 'failure', 'options': [], 'action_id': 'fail_action', 'img': []}], 'raw_query': '今天是礼拜几', 'slot_history': []}, {'status': 0, 'msg': 'ok', 'origin': '1253430', 'schema': {'intents': [{'slots': [], 'intent_name': '', 'intent_confidence': 100.0}]}, 'actions': [{'confidence': 100.0, 'say': '我不知道应该怎么答复您。', 'type': 'failure', 'options': [], 'action_id': 'fail_action', 'img': []}], 'raw_query': '今天是礼拜几', 'sentiment_analysis': {'label': 'neutral', 'pval': 0.999}, 'lexical_analysis': [{'term': '今天', 'weight': 0.305, 'type': 'sys_time', 'etypes': ['sys_time', 'sys_time_generic'], 'basic_word': ['今天']}, {'term': '是', 'weight': 0.062, 'type': '34', 'etypes': [], 'basic_word': ['是']}, {'term': '礼拜', 'weight': 0.462, 'type': '21', 'etypes': [], 'basic_word': ['礼拜']}, {'term': '几', 'weight': 0.17, 'type': '20', 'etypes': [], 'basic_word': ['几']}], 'slot_history': []}, {'status': 0, 'msg': 'ok', 'origin': '1253431', 'schema': {'intents': [{'slots': [], 'intent_name': '', 'intent_confidence': 100.0}]}, 'actions': [{'confidence': 100.0, 'say': '这个问题太难了，暂时我还不太会，你可以问问其它问题呢。', 'type': 'failure', 'options': [], 'action_id': 'fail_action', 'img': []}], 'raw_query': '今天是礼拜几', 'slot_history': []}, {'status': 0, 'msg': 'ok', 'origin': '1253433', 'schema': {'intents': [{'slots': [], 'intent_name': '', 'intent_confidence': 100.0}]}, 'actions': [{'confidence': 100.0, 'say': '这个问题太难了，暂时我还不太会，你可以问问其它问题呢。', 'type': 'failure', 'options': [], 'action_id': 'fail_action', 'img': []}], 'raw_query': '今天是礼拜几', 'slot_history': []}, {'status': 0, 'msg': 'ok', 'origin': '1253434', 'schema': {'intents': [{'slots': [], 'intent_name': '', 'intent_confidence': 100.0}]}, 'actions': [{'confidence': 100.0, 'say': '不好意思，我没有理解您的问题，您可以这么说：什么是龙马精神。', 'type': 'failure', 'options': [], 'action_id': 'fail_action', 'img': []}], 'raw_query': '今天是礼拜几', 'slot_history': []}, {'status': 0, 'msg': 'ok', 'origin': '1253435', 'schema': {'intents': [{'slots': [], 'intent_name': '', 'intent_confidence': 0.0}]}, 'actions': [{'confidence': 100.0, 'say': '我不知道应该怎么答复您。', 'type': 'failure', 'options': [], 'action_id': 'fail_action', 'img': []}], 'raw_query': '今天是礼拜几', 'sentiment_analysis': {'label': 'neutral', 'pval': 0.999}, 'lexical_analysis': [{'term': '今天', 'weight': 0.305, 'type': 'sys_time', 'etypes': ['sys_time', 'sys_time_generic'], 'basic_word': ['今天']}, {'term': '是', 'weight': 0.062, 'type': '34', 'etypes': [], 'basic_word': ['是']}, {'term': '礼拜', 'weight': 0.462, 'type': '21', 'etypes': [], 'basic_word': ['礼拜']}, {'term': '几', 'weight': 0.17, 'type': '20', 'etypes': [], 'basic_word': ['几']}], 'slot_history': []}, {'status': 0, 'msg': 'ok', 'origin': '1253437', 'schema': {'intents': [{'slots': [], 'intent_name': '', 'intent_confidence': 0.0, 'slu_info': {'slu_intent': 'SYS_OTHER', 'match_info': {'from_who': 'model'}}}]}, 'actions': [{'confidence': 100.0, 'say': '我不知道应该怎么答复您。', 'type': 'failure', 'options': [], 'action_id': 'fail_action', 'img': []}], 'raw_query': '今天是礼拜几', 'sentiment_analysis': {'label': 'neutral', 'pval': 0.9997662901878356}, 'lexical_analysis': [{'term': '今天', 'weight': 0.3052028119564057, 'type': 'sys_time', 'etypes': ['sys_time', 'sys_time_day', 'user_time'], 'basic_word': ['今天']}, {'term': '是', 'weight': 0.06255298852920532, 'type': '34', 'etypes': [], 'basic_word': ['是']}, {'term': '礼拜', 'weight': 0.462207555770874, 'type': '21', 'etypes': [], 'basic_word': ['礼拜']}, {'term': '几', 'weight': 0.170036643743515, 'type': '20', 'etypes': [], 'basic_word': ['几']}], 'slot_history': []}]}, 'error_code': 0, 'error_msg': 'success'}\n"
     ]
    }
   ],
   "source": [
    "# encoding:utf-8\n",
    "import requests\n",
    "API_KEY = 'tuXGzyBMMu0O0PSWzT4G395B'\n",
    "API_SECRET='ueWt6T0XHZ8saSH4glFcwGtr6nTchG1j'\n",
    "SERVICE_ID = 'S76849'\n",
    "host = 'https://aip.baidubce.com/oauth/2.0/token?' \\\n",
    "        'grant_type=client_credentials&' \\\n",
    "        'client_id={0}&' \\\n",
    "        'client_secret={1}'.format(API_KEY, API_SECRET)\n",
    "response = requests.post(host)\n",
    "if response:\n",
    "    access_token = response.json()['access_token']\n",
    "    #access_token = '#####调用鉴权接口获取的token#####'\n",
    "    url = 'https://aip.baidubce.com/rpc/2.0/unit/service/v3/chat?access_token=' + access_token\n",
    "    post_data = \"{\\\"version\\\":\\\"3.0\\\",\\\"service_id\\\":\\\"S76849\\\",\\\"session_id\\\":\\\"\\\",\\\"log_id\\\":\\\"7758521\\\",\\\"request\\\":{\\\"terminal_id\\\":\\\"88888\\\",\\\"query\\\":\\\"今天是礼拜几\\\"}}\"\n",
    "    post_data = post_data.encode('utf-8')\n",
    "    headers = {'content-type': 'application/x-www-form-urlencoded'}\n",
    "    response = requests.post(url, data=post_data, headers=headers)\n",
    "    if response:\n",
    "        print (response.json())"
   ]
  },
  {
   "cell_type": "code",
   "execution_count": 33,
   "metadata": {},
   "outputs": [
    {
     "data": {
      "text/plain": [
       "'周末就是礼拜六，而礼拜天（即星期天）是一周的开始，而现在一般指周末就是星期六和星期日。'"
      ]
     },
     "execution_count": 33,
     "metadata": {},
     "output_type": "execute_result"
    }
   ],
   "source": [
    "response.json()['result']['responses'][0]['actions'][0]['say']"
   ]
  },
  {
   "cell_type": "code",
   "execution_count": 34,
   "metadata": {},
   "outputs": [
    {
     "data": {
      "text/plain": [
       "b'{\"version\":\"3.0\",\"service_id\":\"S76849\",\"session_id\":\"\",\"log_id\":\"7758521\",\"request\":{\"terminal_id\":\"88888\",\"query\":\"\\xe4\\xbb\\x8a\\xe5\\xa4\\xa9\\xe6\\x98\\xaf\\xe7\\xa4\\xbc\\xe6\\x8b\\x9c\\xe5\\x87\\xa0\"}}'"
      ]
     },
     "execution_count": 34,
     "metadata": {},
     "output_type": "execute_result"
    }
   ],
   "source": [
    "post_data"
   ]
  },
  {
   "cell_type": "code",
   "execution_count": 36,
   "metadata": {},
   "outputs": [
    {
     "name": "stderr",
     "output_type": "stream",
     "text": [
      "\n",
      "    Error 259 for command:\n",
      "        play audio.mp3 wait\n",
      "    驱动程序无法识别指定的命令参数。\n",
      "\n",
      "    Error 263 for command:\n",
      "        close audio.mp3\n",
      "    指定的设备未打开，或不被 MCI 所识别。\n",
      "Failed to close the file: audio.mp3\n"
     ]
    },
    {
     "ename": "PlaysoundException",
     "evalue": "\n    Error 259 for command:\n        play audio.mp3 wait\n    驱动程序无法识别指定的命令参数。",
     "output_type": "error",
     "traceback": [
      "\u001b[1;31m---------------------------------------------------------------------------\u001b[0m",
      "\u001b[1;31mPlaysoundException\u001b[0m                        Traceback (most recent call last)",
      "\u001b[1;32m~\\AppData\\Local\\Temp/ipykernel_21244/1020602861.py\u001b[0m in \u001b[0;36m<module>\u001b[1;34m\u001b[0m\n\u001b[0;32m      1\u001b[0m \u001b[1;32mfrom\u001b[0m \u001b[0mplaysound\u001b[0m \u001b[1;32mimport\u001b[0m \u001b[0mplaysound\u001b[0m\u001b[1;33m\u001b[0m\u001b[1;33m\u001b[0m\u001b[0m\n\u001b[0;32m      2\u001b[0m \u001b[1;33m\u001b[0m\u001b[0m\n\u001b[1;32m----> 3\u001b[1;33m \u001b[0mplaysound\u001b[0m\u001b[1;33m(\u001b[0m\u001b[1;34m'audio.mp3'\u001b[0m\u001b[1;33m)\u001b[0m\u001b[1;33m\u001b[0m\u001b[1;33m\u001b[0m\u001b[0m\n\u001b[0m",
      "\u001b[1;32md:\\anaconda\\envs\\non\\lib\\site-packages\\playsound.py\u001b[0m in \u001b[0;36m_playsoundWin\u001b[1;34m(sound, block)\u001b[0m\n\u001b[0;32m     71\u001b[0m         \u001b[0mlogger\u001b[0m\u001b[1;33m.\u001b[0m\u001b[0mdebug\u001b[0m\u001b[1;33m(\u001b[0m\u001b[1;34m'Starting'\u001b[0m\u001b[1;33m)\u001b[0m\u001b[1;33m\u001b[0m\u001b[1;33m\u001b[0m\u001b[0m\n\u001b[0;32m     72\u001b[0m         \u001b[0mwinCommand\u001b[0m\u001b[1;33m(\u001b[0m\u001b[1;34mu'open {}'\u001b[0m\u001b[1;33m.\u001b[0m\u001b[0mformat\u001b[0m\u001b[1;33m(\u001b[0m\u001b[0msound\u001b[0m\u001b[1;33m)\u001b[0m\u001b[1;33m)\u001b[0m\u001b[1;33m\u001b[0m\u001b[1;33m\u001b[0m\u001b[0m\n\u001b[1;32m---> 73\u001b[1;33m         \u001b[0mwinCommand\u001b[0m\u001b[1;33m(\u001b[0m\u001b[1;34mu'play {}{}'\u001b[0m\u001b[1;33m.\u001b[0m\u001b[0mformat\u001b[0m\u001b[1;33m(\u001b[0m\u001b[0msound\u001b[0m\u001b[1;33m,\u001b[0m \u001b[1;34m' wait'\u001b[0m \u001b[1;32mif\u001b[0m \u001b[0mblock\u001b[0m \u001b[1;32melse\u001b[0m \u001b[1;34m''\u001b[0m\u001b[1;33m)\u001b[0m\u001b[1;33m)\u001b[0m\u001b[1;33m\u001b[0m\u001b[1;33m\u001b[0m\u001b[0m\n\u001b[0m\u001b[0;32m     74\u001b[0m         \u001b[0mlogger\u001b[0m\u001b[1;33m.\u001b[0m\u001b[0mdebug\u001b[0m\u001b[1;33m(\u001b[0m\u001b[1;34m'Returning'\u001b[0m\u001b[1;33m)\u001b[0m\u001b[1;33m\u001b[0m\u001b[1;33m\u001b[0m\u001b[0m\n\u001b[0;32m     75\u001b[0m     \u001b[1;32mfinally\u001b[0m\u001b[1;33m:\u001b[0m\u001b[1;33m\u001b[0m\u001b[1;33m\u001b[0m\u001b[0m\n",
      "\u001b[1;32md:\\anaconda\\envs\\non\\lib\\site-packages\\playsound.py\u001b[0m in \u001b[0;36mwinCommand\u001b[1;34m(*command)\u001b[0m\n\u001b[0;32m     62\u001b[0m                                 '\\n    ' + errorBuffer.raw.decode('utf-16').rstrip('\\0'))\n\u001b[0;32m     63\u001b[0m             \u001b[0mlogger\u001b[0m\u001b[1;33m.\u001b[0m\u001b[0merror\u001b[0m\u001b[1;33m(\u001b[0m\u001b[0mexceptionMessage\u001b[0m\u001b[1;33m)\u001b[0m\u001b[1;33m\u001b[0m\u001b[1;33m\u001b[0m\u001b[0m\n\u001b[1;32m---> 64\u001b[1;33m             \u001b[1;32mraise\u001b[0m \u001b[0mPlaysoundException\u001b[0m\u001b[1;33m(\u001b[0m\u001b[0mexceptionMessage\u001b[0m\u001b[1;33m)\u001b[0m\u001b[1;33m\u001b[0m\u001b[1;33m\u001b[0m\u001b[0m\n\u001b[0m\u001b[0;32m     65\u001b[0m         \u001b[1;32mreturn\u001b[0m \u001b[0mbuf\u001b[0m\u001b[1;33m.\u001b[0m\u001b[0mvalue\u001b[0m\u001b[1;33m\u001b[0m\u001b[1;33m\u001b[0m\u001b[0m\n\u001b[0;32m     66\u001b[0m \u001b[1;33m\u001b[0m\u001b[0m\n",
      "\u001b[1;31mPlaysoundException\u001b[0m: \n    Error 259 for command:\n        play audio.mp3 wait\n    驱动程序无法识别指定的命令参数。"
     ]
    }
   ],
   "source": [
    "from playsound import playsound\n",
    "\n",
    "playsound('audio.mp3')"
   ]
  }
 ],
 "metadata": {
  "kernelspec": {
   "display_name": "Python 3.7.11 ('non')",
   "language": "python",
   "name": "python3"
  },
  "language_info": {
   "codemirror_mode": {
    "name": "ipython",
    "version": 3
   },
   "file_extension": ".py",
   "mimetype": "text/x-python",
   "name": "python",
   "nbconvert_exporter": "python",
   "pygments_lexer": "ipython3",
   "version": "3.7.11"
  },
  "orig_nbformat": 4,
  "vscode": {
   "interpreter": {
    "hash": "067c1bce92f9c834deaea1a257a860c647138283264017f402e2d663ef987820"
   }
  }
 },
 "nbformat": 4,
 "nbformat_minor": 2
}
